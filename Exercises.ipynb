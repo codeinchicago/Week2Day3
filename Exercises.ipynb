{
 "cells": [
  {
   "cell_type": "markdown",
   "metadata": {},
   "source": [
    "### Exercise 1"
   ]
  },
  {
   "cell_type": "markdown",
   "metadata": {},
   "source": [
    "Given an array of positive integers `nums`, return a list of all of the negative integers.<br>\n",
    "Ex. 1<br>\n",
    "nums = [1, 3, 5, 7, 8]<br>\n",
    "Expected Output: [-1, -3, -5, -7, -8]<br>\n",
    "\n",
    "Ex. 2<br>\n",
    "nums = [100, 534, 32, 15, 77, 222, 788, 345, 75645, 22]<br>\n",
    "Expected Output: [-100, -534, -32, -15, -77, -222, -788, -345, -75645, -22]<br>"
   ]
  },
  {
   "cell_type": "code",
   "execution_count": 73,
   "metadata": {},
   "outputs": [],
   "source": [
    "#Edge case if list is empty or no negative numbers.\n",
    "\n",
    "nums = [100, 534, 32, 15, 77, 222, 788, 345, 75645, 22, \"a\", -12]\n",
    "nums2 = []\n",
    "\n",
    "def negative(nums):\n",
    "    neglist = []\n",
    "    for number in nums:\n",
    "         if str(number).isdigit() and number > 0:\n",
    "            neglist.append(number * -1)\n",
    "    if neglist == []:\n",
    "        print(\"No positive integers in string.\")\n",
    "    #print(neglist)\n",
    "    return neglist\n",
    "\n",
    "#negative(nums2)"
   ]
  },
  {
   "cell_type": "markdown",
   "metadata": {},
   "source": [
    "### Exercise 2"
   ]
  },
  {
   "cell_type": "markdown",
   "metadata": {},
   "source": [
    "Given a string, return a list of all of the digits in the string.<br>\n",
    "Ex. 1 <br>\n",
    "address = \"123 Real Street, Apt. 2, Springfield, OR 43498\"<br>\n",
    "Expected Output: ['1', '2', '3', '2', '4', '3', '4', '9', '8']<br>\n",
    "\n",
    "Ex. 2 <br>\n",
    "sentence = \"My phone number is (555) 555-4321\"<br>\n",
    "Expected Output: ['5', '5', '5', '5', '5', '5', '4', '3', '2', '1']<br>"
   ]
  },
  {
   "cell_type": "code",
   "execution_count": 69,
   "metadata": {},
   "outputs": [
    {
     "name": "stdout",
     "output_type": "stream",
     "text": [
      "No numbers in string.\n"
     ]
    },
    {
     "data": {
      "text/plain": [
       "[]"
      ]
     },
     "execution_count": 69,
     "metadata": {},
     "output_type": "execute_result"
    }
   ],
   "source": [
    "# Hint: Look at the string methods! -- help(str)\n",
    "#str.isdigit\n",
    "\n",
    "#Check for edge cases, no digits, only digits, empty string.\n",
    "address = \"123 Real Street, Apt. 2, Springfield, OR 43498\"\n",
    "text = \"My phone number is (555) 555-4321\"\n",
    "test = \"This has only text.\"\n",
    "\n",
    "def digitcheck(text):\n",
    "    digitlist = []\n",
    "    for character in text:\n",
    "        if str.isdigit(character):\n",
    "            digitlist.append(character)\n",
    "    if digitlist == []:\n",
    "        print(\"No numbers in string.\")\n",
    "    return digitlist\n",
    "\n",
    "#digitcheck(test)"
   ]
  },
  {
   "cell_type": "markdown",
   "metadata": {},
   "source": [
    "### Exercise 3"
   ]
  },
  {
   "cell_type": "markdown",
   "metadata": {},
   "source": [
    "Given a string `digits`, return a **string** of the digits + 1<br>\n",
    "\n",
    "Ex. 1<br>\n",
    "digits = '123'<br>\n",
    "Expected Output: '124'<br>\n",
    "\n",
    "Ex. 2<br>\n",
    "digits = '99'<br>\n",
    "Expected Output: '100'<br>"
   ]
  },
  {
   "cell_type": "code",
   "execution_count": 67,
   "metadata": {},
   "outputs": [],
   "source": [
    "#Edge cases of no digits, all/some letters.\n",
    "#Need to check for decimals, only works for integers currently.\n",
    "\n",
    "digits = \"10.5\"\n",
    "\n",
    "def plusone(digits):\n",
    "    if digits.isdigit():\n",
    "        digits = str(int(digits) + 1)\n",
    "        return digits\n",
    "    else:\n",
    "        print(\"String must contain only integers.\")\n",
    "        return None\n",
    "    \n",
    "#plusone(digits)"
   ]
  },
  {
   "cell_type": "code",
   "execution_count": null,
   "metadata": {},
   "outputs": [],
   "source": []
  }
 ],
 "metadata": {
  "kernelspec": {
   "display_name": "Python 3 (ipykernel)",
   "language": "python",
   "name": "python3"
  },
  "language_info": {
   "codemirror_mode": {
    "name": "ipython",
    "version": 3
   },
   "file_extension": ".py",
   "mimetype": "text/x-python",
   "name": "python",
   "nbconvert_exporter": "python",
   "pygments_lexer": "ipython3",
   "version": "3.9.7"
  }
 },
 "nbformat": 4,
 "nbformat_minor": 4
}
